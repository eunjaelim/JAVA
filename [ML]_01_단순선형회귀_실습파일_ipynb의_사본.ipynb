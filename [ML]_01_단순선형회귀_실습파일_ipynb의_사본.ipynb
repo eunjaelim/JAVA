{
  "cells": [
    {
      "cell_type": "markdown",
      "metadata": {
        "id": "view-in-github",
        "colab_type": "text"
      },
      "source": [
        "<a href=\"https://colab.research.google.com/github/eunjaelim/JAVA/blob/master/%5BML%5D_01_%EB%8B%A8%EC%88%9C%EC%84%A0%ED%98%95%ED%9A%8C%EA%B7%80_%EC%8B%A4%EC%8A%B5%ED%8C%8C%EC%9D%BC_ipynb%EC%9D%98_%EC%82%AC%EB%B3%B8.ipynb\" target=\"_parent\"><img src=\"https://colab.research.google.com/assets/colab-badge.svg\" alt=\"Open In Colab\"/></a>"
      ]
    },
    {
      "cell_type": "markdown",
      "id": "a01ebb1f",
      "metadata": {
        "id": "a01ebb1f"
      },
      "source": [
        "### 미분이란?\n",
        "- 곡선의 기울기(slope)\n",
        "- 함수의 순간 변화율 -> 함수 f(x)에서 x가 미세하게 변할 때 f(x)값이 얼마나 민감하게 반응하는가에 관한 식\n",
        "\n",
        "<img src= \"https://raw.githubusercontent.com/jaygil8755/ML01/master/01.%20%EB%8B%A8%EC%88%9C%EC%84%A0%ED%98%95%ED%9A%8C%EA%B7%80/deri.gif\" width=\"400\" height=\"300\" align='left'>   "
      ]
    },
    {
      "cell_type": "markdown",
      "id": "f92b38ed",
      "metadata": {
        "id": "f92b38ed"
      },
      "source": [
        "### 편미분이란?\n",
        "- 다변수 함수에서 각 변수의 변화에 따른 함수의 변화량\n",
        "\n",
        "<img src= \"https://raw.githubusercontent.com/jaygil8755/ML01/master/01.%20%EB%8B%A8%EC%88%9C%EC%84%A0%ED%98%95%ED%9A%8C%EA%B7%80/deriv_ex.png\" width=\"400\" height=\"300\" align='left'>   "
      ]
    },
    {
      "cell_type": "markdown",
      "id": "eb123103",
      "metadata": {
        "id": "eb123103"
      },
      "source": [
        "#### 평균제곱오차 편미분\n",
        "\n",
        "평균제곱 오차\n",
        "$MSE = \\frac{1}{n} \\sum_{i=1}^{n} (y_i - \\hat{y_i})^2$\n",
        "\n",
        "기울기 세타1에 대한 편미분  \n",
        "$\\frac{\\partial MSE}{\\partial \\theta_1} = -\\frac{2}{n} \\sum_{i=1}^{n} x_i (y_i - \\hat{y_i})$\n",
        "\n",
        "절편 세타0에 대한 편미분  \n",
        "$\\frac{\\partial MSE}{\\partial \\theta_0} = -\\frac{2}{n} \\sum_{i=1}^{n} (y_i - \\hat{y_i})$\n",
        "\n",
        "[참고] MSE 편미분 http://taewan.kim/post/cost_function_derivation/"
      ]
    },
    {
      "cell_type": "markdown",
      "id": "c2c45384",
      "metadata": {
        "id": "c2c45384"
      },
      "source": [
        "### 단순선형회귀 모델 구현하기 (순수 파이썬)\n",
        "- (ChatGPT 참고) sklearn을 사용하지 않고, 파이썬으로만 단순선형회귀를 구현하는 코드를 알려주세요."
      ]
    },
    {
      "cell_type": "code",
      "execution_count": null,
      "id": "4165bdb9",
      "metadata": {
        "id": "4165bdb9"
      },
      "outputs": [],
      "source": [
        "import numpy as np\n",
        "import matplotlib.pyplot as plt"
      ]
    },
    {
      "cell_type": "code",
      "execution_count": null,
      "id": "f5855aa6",
      "metadata": {
        "id": "f5855aa6"
      },
      "outputs": [],
      "source": [
        "# 데이터 생성\n",
        "# 시드 초기화\n",
        "np.random.seed(0)\n",
        "# 0부터 10까지의 100개의 데이터 포인트 생성\n",
        "X = np.linspace(0,10,100)\n",
        "y = 2*X+1+np.random.normal(0,1,100)\n",
        " # y = 2X + 1의 관계에 노이즈 추가"
      ]
    },
    {
      "cell_type": "code",
      "source": [
        "X"
      ],
      "metadata": {
        "colab": {
          "base_uri": "https://localhost:8080/"
        },
        "id": "QEpCn5ajixud",
        "outputId": "4a10d434-793a-4b60-8c76-326abf0e12bf"
      },
      "id": "QEpCn5ajixud",
      "execution_count": null,
      "outputs": [
        {
          "output_type": "execute_result",
          "data": {
            "text/plain": [
              "array([ 0.        ,  0.1010101 ,  0.2020202 ,  0.3030303 ,  0.4040404 ,\n",
              "        0.50505051,  0.60606061,  0.70707071,  0.80808081,  0.90909091,\n",
              "        1.01010101,  1.11111111,  1.21212121,  1.31313131,  1.41414141,\n",
              "        1.51515152,  1.61616162,  1.71717172,  1.81818182,  1.91919192,\n",
              "        2.02020202,  2.12121212,  2.22222222,  2.32323232,  2.42424242,\n",
              "        2.52525253,  2.62626263,  2.72727273,  2.82828283,  2.92929293,\n",
              "        3.03030303,  3.13131313,  3.23232323,  3.33333333,  3.43434343,\n",
              "        3.53535354,  3.63636364,  3.73737374,  3.83838384,  3.93939394,\n",
              "        4.04040404,  4.14141414,  4.24242424,  4.34343434,  4.44444444,\n",
              "        4.54545455,  4.64646465,  4.74747475,  4.84848485,  4.94949495,\n",
              "        5.05050505,  5.15151515,  5.25252525,  5.35353535,  5.45454545,\n",
              "        5.55555556,  5.65656566,  5.75757576,  5.85858586,  5.95959596,\n",
              "        6.06060606,  6.16161616,  6.26262626,  6.36363636,  6.46464646,\n",
              "        6.56565657,  6.66666667,  6.76767677,  6.86868687,  6.96969697,\n",
              "        7.07070707,  7.17171717,  7.27272727,  7.37373737,  7.47474747,\n",
              "        7.57575758,  7.67676768,  7.77777778,  7.87878788,  7.97979798,\n",
              "        8.08080808,  8.18181818,  8.28282828,  8.38383838,  8.48484848,\n",
              "        8.58585859,  8.68686869,  8.78787879,  8.88888889,  8.98989899,\n",
              "        9.09090909,  9.19191919,  9.29292929,  9.39393939,  9.49494949,\n",
              "        9.5959596 ,  9.6969697 ,  9.7979798 ,  9.8989899 , 10.        ])"
            ]
          },
          "metadata": {},
          "execution_count": 4
        }
      ]
    },
    {
      "cell_type": "code",
      "source": [
        "y"
      ],
      "metadata": {
        "colab": {
          "base_uri": "https://localhost:8080/"
        },
        "id": "cXJcWSrgizdj",
        "outputId": "8e1e2ae9-ad2f-4713-877e-6b899c049f2e"
      },
      "id": "cXJcWSrgizdj",
      "execution_count": null,
      "outputs": [
        {
          "output_type": "execute_result",
          "data": {
            "text/plain": [
              "array([ 2.76405235,  1.60217741,  2.38277839,  3.84695381,  3.6756388 ,\n",
              "        1.03282313,  3.16220963,  2.26278421,  2.51294276,  3.22878032,\n",
              "        3.16424559,  4.67649573,  4.18528015,  3.74793764,  4.27214606,\n",
              "        4.36397736,  5.72640231,  4.22918517,  4.94943134,  3.9842881 ,\n",
              "        2.48741422,  5.89604284,  6.30888064,  4.90429963,  8.11823947,\n",
              "        4.59613938,  6.29828377,  6.2673616 ,  8.18934487,  8.32794463,\n",
              "        7.21555349,  7.64078878,  6.57686072,  5.6858702 ,  7.52077472,\n",
              "        8.22705604,  9.50301795,  9.67712732,  8.28944086,  8.57648513,\n",
              "        8.03225512,  7.86281035,  7.77857829, 11.63764408,  9.37923671,\n",
              "        9.65283479,  9.04013393, 11.27243985,  9.08307185, 10.68624962,\n",
              "       10.20554354, 11.6899328 , 10.99424537, 10.52643852, 11.88090868,\n",
              "       12.53944298, 12.37964854, 12.81762341, 12.08284962, 12.55645075,\n",
              "       12.44875167, 12.96367916, 12.71210624, 12.00099012, 14.10671907,\n",
              "       13.7295322 , 12.70313499, 14.99813579, 13.83007537, 14.99133934,\n",
              "       15.8705047 , 15.47241725, 16.68485523, 14.51264893, 16.35183659,\n",
              "       15.46670506, 15.4827382 , 15.97670589, 16.44602323, 17.0157613 ,\n",
              "       15.99646632, 18.26446285, 18.03131901, 16.23143308, 19.45794916,\n",
              "       20.06760635, 19.55251694, 18.39583274, 17.70702516, 20.03424971,\n",
              "       18.77864123, 20.60628345, 19.79413356, 20.76451782, 20.34626539,\n",
              "       20.89849236, 20.40443941, 22.38183009, 20.92489189, 21.40198936])"
            ]
          },
          "metadata": {},
          "execution_count": 5
        }
      ]
    },
    {
      "cell_type": "code",
      "execution_count": null,
      "id": "7d64ee8f",
      "metadata": {
        "id": "7d64ee8f"
      },
      "outputs": [],
      "source": [
        "# 초기값 및 하이퍼파라미터 설정\n",
        "# 학습률\n",
        "learning_rate = 0.01\n",
        "# 경사 하강법 반복 횟수\n",
        "epochs = 1000\n",
        "# 데이터 포인트 수\n",
        "n = len(X)"
      ]
    },
    {
      "cell_type": "code",
      "execution_count": null,
      "id": "67e76f66",
      "metadata": {
        "id": "67e76f66"
      },
      "outputs": [],
      "source": []
    },
    {
      "cell_type": "code",
      "execution_count": null,
      "id": "793045da",
      "metadata": {
        "id": "793045da"
      },
      "outputs": [],
      "source": [
        "# 초기 회귀 계수 설정\n",
        "# 초기 기울기\n",
        "slope = 0\n",
        "\n",
        "# 초기 절편\n",
        "intercept = 0"
      ]
    },
    {
      "cell_type": "code",
      "execution_count": null,
      "id": "e14be6da",
      "metadata": {
        "id": "e14be6da",
        "colab": {
          "base_uri": "https://localhost:8080/"
        },
        "outputId": "bf69b605-d654-4e42-9c0f-a9f55e6be825"
      },
      "outputs": [
        {
          "output_type": "stream",
          "name": "stdout",
          "text": [
            "epochs=1000 기울기=1.871337 절편=1.8713 기울기 편미분 = -0.0000 절편 편미분 = 0.3331\n",
            "epochs=1000 기울기=1.871337 절편=1.8713 기울기 편미분 = -0.0000 절편 편미분 = 0.3331\n",
            "epochs=1000 기울기=1.871337 절편=1.8713 기울기 편미분 = -0.0000 절편 편미분 = 0.3331\n",
            "epochs=1000 기울기=1.871337 절편=1.8713 기울기 편미분 = -0.0000 절편 편미분 = 0.3331\n",
            "epochs=1000 기울기=1.871337 절편=1.8713 기울기 편미분 = -0.0000 절편 편미분 = 0.3331\n",
            "epochs=1000 기울기=1.871337 절편=1.8713 기울기 편미분 = -0.0000 절편 편미분 = 0.3331\n",
            "epochs=1000 기울기=1.871337 절편=1.8713 기울기 편미분 = -0.0000 절편 편미분 = 0.3331\n",
            "epochs=1000 기울기=1.871337 절편=1.8713 기울기 편미분 = -0.0000 절편 편미분 = 0.3331\n",
            "epochs=1000 기울기=1.871337 절편=1.8713 기울기 편미분 = -0.0000 절편 편미분 = 0.3331\n",
            "epochs=1000 기울기=1.871337 절편=1.8713 기울기 편미분 = -0.0000 절편 편미분 = 0.3331\n"
          ]
        }
      ],
      "source": [
        "# 경사하강법 수행\n",
        "for i in range(epochs):\n",
        "  y_pred = slope * X + intercept # 예측값\n",
        "  error = y_pred - y # 오차 계산\n",
        "\n",
        "  # 기울기와 절편의 편미분\n",
        "  gradient_slope = (2/n)*np.sum(error*X)\n",
        "  gradient_intercept = (2/n)*np.sum(error)\n",
        "\n",
        "  # 기울기와 절편 업데이트\n",
        "  slope -= learning_rate * gradient_slope\n",
        "  gradient_intercept -= learning_rate * gradient_intercept\n",
        "\n",
        "  if i % 100 == 0 :\n",
        "    print(f'epochs={epochs} 기울기={slope:4f} 절편={intercept:.4f} 기울기 편미분 = {gradient_slope:.4f} 절편 편미분 = {gradient_intercept:.4f}')"
      ]
    },
    {
      "cell_type": "code",
      "execution_count": null,
      "id": "3434c8a8",
      "metadata": {
        "id": "3434c8a8"
      },
      "outputs": [],
      "source": [
        "# 회귀 계수 출력\n"
      ]
    },
    {
      "cell_type": "code",
      "execution_count": null,
      "id": "d74d6148",
      "metadata": {
        "id": "d74d6148"
      },
      "outputs": [],
      "source": [
        "# 테스트 데이터 예측\n"
      ]
    },
    {
      "cell_type": "code",
      "execution_count": null,
      "id": "4afbae4f",
      "metadata": {
        "id": "4afbae4f",
        "outputId": "36cf05bd-ec1c-4265-c1cb-fcbc131c5e90",
        "colab": {
          "base_uri": "https://localhost:8080/"
        }
      },
      "outputs": [
        {
          "output_type": "stream",
          "name": "stdout",
          "text": [
            "Collecting koreanize_matplotlib\n",
            "  Downloading koreanize_matplotlib-0.1.1-py3-none-any.whl (7.9 MB)\n",
            "\u001b[2K     \u001b[90m━━━━━━━━━━━━━━━━━━━━━━━━━━━━━━━━━━━━━━━━\u001b[0m \u001b[32m7.9/7.9 MB\u001b[0m \u001b[31m15.0 MB/s\u001b[0m eta \u001b[36m0:00:00\u001b[0m\n",
            "\u001b[?25hRequirement already satisfied: matplotlib in /usr/local/lib/python3.10/dist-packages (from koreanize_matplotlib) (3.7.1)\n",
            "Requirement already satisfied: contourpy>=1.0.1 in /usr/local/lib/python3.10/dist-packages (from matplotlib->koreanize_matplotlib) (1.1.0)\n",
            "Requirement already satisfied: cycler>=0.10 in /usr/local/lib/python3.10/dist-packages (from matplotlib->koreanize_matplotlib) (0.11.0)\n",
            "Requirement already satisfied: fonttools>=4.22.0 in /usr/local/lib/python3.10/dist-packages (from matplotlib->koreanize_matplotlib) (4.42.0)\n",
            "Requirement already satisfied: kiwisolver>=1.0.1 in /usr/local/lib/python3.10/dist-packages (from matplotlib->koreanize_matplotlib) (1.4.4)\n",
            "Requirement already satisfied: numpy>=1.20 in /usr/local/lib/python3.10/dist-packages (from matplotlib->koreanize_matplotlib) (1.23.5)\n",
            "Requirement already satisfied: packaging>=20.0 in /usr/local/lib/python3.10/dist-packages (from matplotlib->koreanize_matplotlib) (23.1)\n",
            "Requirement already satisfied: pillow>=6.2.0 in /usr/local/lib/python3.10/dist-packages (from matplotlib->koreanize_matplotlib) (9.4.0)\n",
            "Requirement already satisfied: pyparsing>=2.3.1 in /usr/local/lib/python3.10/dist-packages (from matplotlib->koreanize_matplotlib) (3.1.1)\n",
            "Requirement already satisfied: python-dateutil>=2.7 in /usr/local/lib/python3.10/dist-packages (from matplotlib->koreanize_matplotlib) (2.8.2)\n",
            "Requirement already satisfied: six>=1.5 in /usr/local/lib/python3.10/dist-packages (from python-dateutil>=2.7->matplotlib->koreanize_matplotlib) (1.16.0)\n",
            "Installing collected packages: koreanize_matplotlib\n",
            "Successfully installed koreanize_matplotlib-0.1.1\n"
          ]
        }
      ],
      "source": [
        "!pip install koreanize_matplotlib"
      ]
    },
    {
      "cell_type": "code",
      "execution_count": null,
      "id": "e7caaacc",
      "metadata": {
        "scrolled": true,
        "id": "e7caaacc"
      },
      "outputs": [],
      "source": [
        "# 예측 결과 시각화\n",
        "import koreanize_matplotlib\n",
        "plt.figure(figsize=(4,3))\n",
        "plt.scatter"
      ]
    },
    {
      "cell_type": "markdown",
      "id": "8374e6ef",
      "metadata": {
        "id": "8374e6ef"
      },
      "source": [
        "### [실전 문제] 공부 시간 X와 성적 Y의 데이터가 다음과 같을 때 선형회귀를 구현해보세요.\n",
        "- 예) 1시간일 때 70점, 2시간일 때 81점, 4시간일 때 93점....   \n",
        "`data = [[1,70], [2, 81],[4, 93], [5, 92], [6, 91], [8, 97], [9, 98]]`"
      ]
    },
    {
      "cell_type": "code",
      "execution_count": null,
      "id": "7a91dda6",
      "metadata": {
        "id": "7a91dda6",
        "colab": {
          "base_uri": "https://localhost:8080/",
          "height": 429
        },
        "outputId": "fe761b6e-b35d-422d-9f12-b7585ef2b026"
      },
      "outputs": [
        {
          "output_type": "display_data",
          "data": {
            "text/plain": [
              "<Figure size 640x480 with 1 Axes>"
            ],
            "image/png": "[encoded data removed]"
          },
          "metadata": {}
        }
      ],
      "source": [
        "# 데이터 준비\n",
        "\n",
        "data = [[1,70], [2, 81],[4, 93], [5, 92], [6, 91], [8, 97], [9, 98]]\n",
        "\n",
        "X = [i[0]for i in data]\n",
        "y = [i[1]for i in data]\n",
        "\n",
        "# 그래프로 나타내기\n",
        "plt.scatter(X,y)\n",
        "plt.show()"
      ]
    },
    {
      "cell_type": "code",
      "execution_count": null,
      "id": "72a683e4",
      "metadata": {
        "id": "72a683e4"
      },
      "outputs": [],
      "source": [
        "# 리스트로 되어 있는 x와 y값을 넘파이 배열로 바꾸기(인덱스를 주어 하나씩 불러와 계산이 가능하게 하기 위함)\n",
        "X = np.array(X)\n",
        "y = np.array(y)"
      ]
    },
    {
      "cell_type": "code",
      "execution_count": null,
      "id": "46e125ea",
      "metadata": {
        "id": "46e125ea"
      },
      "outputs": [],
      "source": [
        "# 초기값 및 하이퍼파라미터 설정\n",
        "learning_rate = 0.01  # 학습률\n",
        "epochs = 1000 # 경사 하강법 반복 횟수\n",
        "n = len(X)  # 데이터 포인트 수\n",
        "# 초기 회귀 계수 설정\n",
        "slope = 0  # 초기 기울기\n",
        "intercept = 0  # 초기 절편"
      ]
    },
    {
      "cell_type": "code",
      "execution_count": null,
      "id": "980d081f",
      "metadata": {
        "id": "980d081f",
        "colab": {
          "base_uri": "https://localhost:8080/"
        },
        "outputId": "2e9eb14c-fdef-4374-e9f1-4daa8c13cea4"
      },
      "outputs": [
        {
          "output_type": "stream",
          "name": "stdout",
          "text": [
            "epochs=0 기울기=9.3371 절편=1.7771         기울기 편미분=-933.7143 절편 편미분=-177.7143\n",
            "epochs=100 기울기=10.0930 절편=28.2265         기울기 편미분=3.1707 절편 편미분=-20.4222\n",
            "epochs=200 기울기=7.5437 절편=44.6470         기울기 편미분=2.0249 절편 편미분=-13.0421\n",
            "epochs=300 기울기=5.9156 절편=55.1334         기울기 편미분=1.2931 절편 편미분=-8.3290\n",
            "epochs=400 기울기=4.8759 절편=61.8302         기울기 편미분=0.8258 절편 편미분=-5.3191\n",
            "epochs=500 기울기=4.2119 절편=66.1070         기울기 편미분=0.5274 절편 편미분=-3.3969\n",
            "epochs=600 기울기=3.7878 절편=68.8382         기울기 편미분=0.3368 절편 편미분=-2.1693\n",
            "epochs=700 기울기=3.5170 절편=70.5825         기울기 편미분=0.2151 절편 편미분=-1.3854\n",
            "epochs=800 기울기=3.3441 절편=71.6964         기울기 편미분=0.1374 절편 편미분=-0.8847\n",
            "epochs=900 기울기=3.2336 절편=72.4077         기울기 편미분=0.0877 절편 편미분=-0.5650\n"
          ]
        }
      ],
      "source": [
        "# 경사하강법 수행\n",
        "for i in range(epochs):\n",
        "    y_pred = slope * X + intercept  # 현재 회귀선에 대한 예측값 계산\n",
        "    error = y_pred - y  # 예측 오차 계산\n",
        "\n",
        "    # 기울기와 절편의 편미분 계산\n",
        "    gradient_slope = (2/n) * np.sum(error * X)\n",
        "    gradient_intercept = (2/n) * np.sum(error)\n",
        "\n",
        "    # 기울기와 절편 업데이트\n",
        "    slope -= learning_rate * gradient_slope\n",
        "    intercept -= learning_rate * gradient_intercept\n",
        "\n",
        "    if i % 100 == 0: # 100번 반복될 때마다 현재 상태 출력\n",
        "        print(f\"epochs={i} 기울기={slope:.4f} 절편={intercept:.4f} \\\n",
        "        기울기 편미분={gradient_slope:.4f} 절편 편미분={gradient_intercept:.4f}\")"
      ]
    },
    {
      "cell_type": "code",
      "execution_count": null,
      "id": "ff2e329f",
      "metadata": {
        "id": "ff2e329f"
      },
      "outputs": [],
      "source": [
        "# 테스트 데이터 예측\n",
        "y_pred = slope * X + intercept\n"
      ]
    },
    {
      "cell_type": "code",
      "execution_count": null,
      "id": "d767dfa9",
      "metadata": {
        "id": "d767dfa9",
        "colab": {
          "base_uri": "https://localhost:8080/",
          "height": 469
        },
        "outputId": "add6abff-c644-434c-d7e0-a2e89e97d364"
      },
      "outputs": [
        {
          "output_type": "display_data",
          "data": {
            "text/plain": [
              "<Figure size 640x480 with 1 Axes>"
            ],
            "image/png": "[encoded data removed]"
          },
          "metadata": {}
        }
      ],
      "source": [
        "plt.scatter(X, y, color='blue', label='실제 데이터')\n",
        "plt.plot(X, y_pred, color='red', label='회귀선')\n",
        "plt.xlabel('X')\n",
        "plt.ylabel('y')\n",
        "plt.legend()\n",
        "plt.title('단순선형회귀 예측 결과')\n",
        "plt.show()"
      ]
    },
    {
      "cell_type": "markdown",
      "id": "a13483ef",
      "metadata": {
        "id": "a13483ef"
      },
      "source": [
        "#### 하이퍼파라미터 변경 하여 성능 높이기\n",
        "예) epochs = 5000"
      ]
    },
    {
      "cell_type": "code",
      "execution_count": null,
      "id": "c4340cb9",
      "metadata": {
        "id": "c4340cb9"
      },
      "outputs": [],
      "source": [
        "epochs = 5000\n"
      ]
    },
    {
      "cell_type": "code",
      "source": [
        "# 경사하강법 수행\n",
        "for i in range(epochs):\n",
        "    y_pred = slope * X + intercept  # 현재 회귀선에 대한 예측값 계산\n",
        "    error = y_pred - y  # 예측 오차 계산\n",
        "\n",
        "    # 기울기와 절편의 편미분 계산\n",
        "    gradient_slope = (2/n) * np.sum(error * X)\n",
        "    gradient_intercept = (2/n) * np.sum(error)\n",
        "\n",
        "    # 기울기와 절편 업데이트\n",
        "    slope -= learning_rate * gradient_slope\n",
        "    intercept -= learning_rate * gradient_intercept\n",
        "\n",
        "    if i % 100 == 0: # 100번 반복될 때마다 현재 상태 출력\n",
        "        print(f\"epochs={i} 기울기={slope:.4f} 절편={intercept:.4f} \\\n",
        "        기울기 편미분={gradient_slope:.4f} 절편 편미분={gradient_intercept:.4f}\")"
      ],
      "metadata": {
        "colab": {
          "base_uri": "https://localhost:8080/"
        },
        "id": "-Nkb9Kqzo6V6",
        "outputId": "5863e935-8416-45f8-a366-1669c0a3bdab"
      },
      "id": "-Nkb9Kqzo6V6",
      "execution_count": null,
      "outputs": [
        {
          "output_type": "stream",
          "name": "stdout",
          "text": [
            "epochs=0 기울기=3.1631 절편=72.8620         기울기 편미분=0.0560 절편 편미분=-0.3608\n",
            "epochs=100 기울기=3.1181 절편=73.1521         기울기 편미분=0.0358 절편 편미분=-0.2304\n",
            "epochs=200 기울기=3.0893 절편=73.3374         기울기 편미분=0.0228 절편 편미분=-0.1472\n",
            "epochs=300 기울기=3.0709 절편=73.4557         기울기 편미분=0.0146 절편 편미분=-0.0940\n",
            "epochs=400 기울기=3.0592 절편=73.5313         기울기 편미분=0.0093 절편 편미분=-0.0600\n",
            "epochs=500 기울기=3.0517 절편=73.5796         기울기 편미분=0.0060 절편 편미분=-0.0383\n",
            "epochs=600 기울기=3.0469 절편=73.6104         기울기 편미분=0.0038 절편 편미분=-0.0245\n",
            "epochs=700 기울기=3.0439 절편=73.6301         기울기 편미분=0.0024 절편 편미분=-0.0156\n",
            "epochs=800 기울기=3.0419 절편=73.6426         기울기 편미분=0.0015 절편 편미분=-0.0100\n",
            "epochs=900 기울기=3.0407 절편=73.6507         기울기 편미분=0.0010 절편 편미분=-0.0064\n",
            "epochs=1000 기울기=3.0399 절편=73.6558         기울기 편미분=0.0006 절편 편미분=-0.0041\n",
            "epochs=1100 기울기=3.0394 절편=73.6591         기울기 편미분=0.0004 절편 편미분=-0.0026\n",
            "epochs=1200 기울기=3.0390 절편=73.6611         기울기 편미분=0.0003 절편 편미분=-0.0017\n",
            "epochs=1300 기울기=3.0388 절편=73.6625         기울기 편미분=0.0002 절편 편미분=-0.0011\n",
            "epochs=1400 기울기=3.0387 절편=73.6633         기울기 편미분=0.0001 절편 편미분=-0.0007\n",
            "epochs=1500 기울기=3.0386 절편=73.6639         기울기 편미분=0.0001 절편 편미분=-0.0004\n",
            "epochs=1600 기울기=3.0386 절편=73.6642         기울기 편미분=0.0000 절편 편미분=-0.0003\n",
            "epochs=1700 기울기=3.0385 절편=73.6644         기울기 편미분=0.0000 절편 편미분=-0.0002\n",
            "epochs=1800 기울기=3.0385 절편=73.6646         기울기 편미분=0.0000 절편 편미분=-0.0001\n",
            "epochs=1900 기울기=3.0385 절편=73.6647         기울기 편미분=0.0000 절편 편미분=-0.0001\n",
            "epochs=2000 기울기=3.0385 절편=73.6647         기울기 편미분=0.0000 절편 편미분=-0.0000\n",
            "epochs=2100 기울기=3.0385 절편=73.6648         기울기 편미분=0.0000 절편 편미분=-0.0000\n",
            "epochs=2200 기울기=3.0385 절편=73.6648         기울기 편미분=0.0000 절편 편미분=-0.0000\n",
            "epochs=2300 기울기=3.0385 절편=73.6648         기울기 편미분=0.0000 절편 편미분=-0.0000\n",
            "epochs=2400 기울기=3.0385 절편=73.6648         기울기 편미분=0.0000 절편 편미분=-0.0000\n",
            "epochs=2500 기울기=3.0385 절편=73.6648         기울기 편미분=0.0000 절편 편미분=-0.0000\n",
            "epochs=2600 기울기=3.0385 절편=73.6648         기울기 편미분=0.0000 절편 편미분=-0.0000\n",
            "epochs=2700 기울기=3.0385 절편=73.6648         기울기 편미분=0.0000 절편 편미분=-0.0000\n",
            "epochs=2800 기울기=3.0385 절편=73.6648         기울기 편미분=0.0000 절편 편미분=-0.0000\n",
            "epochs=2900 기울기=3.0385 절편=73.6648         기울기 편미분=0.0000 절편 편미분=-0.0000\n",
            "epochs=3000 기울기=3.0385 절편=73.6648         기울기 편미분=0.0000 절편 편미분=-0.0000\n",
            "epochs=3100 기울기=3.0385 절편=73.6648         기울기 편미분=0.0000 절편 편미분=-0.0000\n",
            "epochs=3200 기울기=3.0385 절편=73.6648         기울기 편미분=0.0000 절편 편미분=-0.0000\n",
            "epochs=3300 기울기=3.0385 절편=73.6648         기울기 편미분=0.0000 절편 편미분=-0.0000\n",
            "epochs=3400 기울기=3.0385 절편=73.6648         기울기 편미분=0.0000 절편 편미분=-0.0000\n",
            "epochs=3500 기울기=3.0385 절편=73.6648         기울기 편미분=0.0000 절편 편미분=-0.0000\n",
            "epochs=3600 기울기=3.0385 절편=73.6648         기울기 편미분=0.0000 절편 편미분=-0.0000\n",
            "epochs=3700 기울기=3.0385 절편=73.6648         기울기 편미분=0.0000 절편 편미분=-0.0000\n",
            "epochs=3800 기울기=3.0385 절편=73.6648         기울기 편미분=0.0000 절편 편미분=-0.0000\n",
            "epochs=3900 기울기=3.0385 절편=73.6648         기울기 편미분=0.0000 절편 편미분=-0.0000\n",
            "epochs=4000 기울기=3.0385 절편=73.6648         기울기 편미분=0.0000 절편 편미분=-0.0000\n",
            "epochs=4100 기울기=3.0385 절편=73.6648         기울기 편미분=0.0000 절편 편미분=-0.0000\n",
            "epochs=4200 기울기=3.0385 절편=73.6648         기울기 편미분=0.0000 절편 편미분=-0.0000\n",
            "epochs=4300 기울기=3.0385 절편=73.6648         기울기 편미분=0.0000 절편 편미분=-0.0000\n",
            "epochs=4400 기울기=3.0385 절편=73.6648         기울기 편미분=0.0000 절편 편미분=-0.0000\n",
            "epochs=4500 기울기=3.0385 절편=73.6648         기울기 편미분=0.0000 절편 편미분=-0.0000\n",
            "epochs=4600 기울기=3.0385 절편=73.6648         기울기 편미분=0.0000 절편 편미분=-0.0000\n",
            "epochs=4700 기울기=3.0385 절편=73.6648         기울기 편미분=0.0000 절편 편미분=-0.0000\n",
            "epochs=4800 기울기=3.0385 절편=73.6648         기울기 편미분=0.0000 절편 편미분=-0.0000\n",
            "epochs=4900 기울기=3.0385 절편=73.6648         기울기 편미분=0.0000 절편 편미분=-0.0000\n"
          ]
        }
      ]
    },
    {
      "cell_type": "code",
      "source": [
        "# 테스트 데이터 예측\n",
        "y_pred = slope * X + intercept"
      ],
      "metadata": {
        "id": "w75khTpfo99n"
      },
      "id": "w75khTpfo99n",
      "execution_count": null,
      "outputs": []
    },
    {
      "cell_type": "code",
      "source": [
        "plt.scatter(X, y, color='blue', label='실제 데이터')\n",
        "plt.plot(X, y_pred, color='red', label='회귀선')\n",
        "plt.xlabel('X')\n",
        "plt.ylabel('y')\n",
        "plt.legend()\n",
        "plt.title('단순선형회귀 예측 결과')\n",
        "plt.show()"
      ],
      "metadata": {
        "colab": {
          "base_uri": "https://localhost:8080/",
          "height": 469
        },
        "id": "1IU3ZUwepASj",
        "outputId": "417d9639-9aad-4ea8-e741-67a08b3dff3c"
      },
      "id": "1IU3ZUwepASj",
      "execution_count": null,
      "outputs": [
        {
          "output_type": "display_data",
          "data": {
            "text/plain": [
              "<Figure size 640x480 with 1 Axes>"
            ],
            "image/png": "[encoded data removed]"
          },
          "metadata": {}
        }
      ]
    },
    {
      "cell_type": "markdown",
      "id": "ac16f2f0",
      "metadata": {
        "id": "ac16f2f0"
      },
      "source": [
        "### sklearn 라이브러리로 단순 선형회귀 구현하기\n",
        "- linear regression"
      ]
    },
    {
      "cell_type": "code",
      "execution_count": null,
      "id": "9aa429c0",
      "metadata": {
        "id": "9aa429c0"
      },
      "outputs": [],
      "source": [
        "import pandas as pd\n",
        "import numpy as np\n",
        "from sklearn import linear_model\n",
        "import matplotlib.pyplot as plt"
      ]
    },
    {
      "cell_type": "code",
      "execution_count": null,
      "id": "381d3862",
      "metadata": {
        "id": "381d3862"
      },
      "outputs": [],
      "source": [
        "data = [[1,70], [2, 81],[4, 93], [5, 92], [6, 91], [8, 97], [9, 98]]\n",
        "\n",
        "X = np.array([i[0] for i in data])\n",
        "y = np.array([i[1] for i in data])"
      ]
    },
    {
      "cell_type": "code",
      "execution_count": null,
      "id": "87c59653",
      "metadata": {
        "id": "87c59653",
        "colab": {
          "base_uri": "https://localhost:8080/",
          "height": 426
        },
        "outputId": "076d88d3-daf7-4161-a1bd-99a40c62a6ef"
      },
      "outputs": [
        {
          "output_type": "error",
          "ename": "ValueError",
          "evalue": "ignored",
          "traceback": [
            "\u001b[0;31m---------------------------------------------------------------------------\u001b[0m",
            "\u001b[0;31mValueError\u001b[0m                                Traceback (most recent call last)",
            "\u001b[0;32m<ipython-input-35-3d60efb77de2>\u001b[0m in \u001b[0;36m<cell line: 3>\u001b[0;34m()\u001b[0m\n\u001b[1;32m      1\u001b[0m \u001b[0;31m# Create linear regression object\u001b[0m\u001b[0;34m\u001b[0m\u001b[0;34m\u001b[0m\u001b[0m\n\u001b[1;32m      2\u001b[0m \u001b[0mreg\u001b[0m \u001b[0;34m=\u001b[0m \u001b[0mlinear_model\u001b[0m\u001b[0;34m.\u001b[0m\u001b[0mLinearRegression\u001b[0m\u001b[0;34m(\u001b[0m\u001b[0;34m)\u001b[0m\u001b[0;34m\u001b[0m\u001b[0;34m\u001b[0m\u001b[0m\n\u001b[0;32m----> 3\u001b[0;31m \u001b[0mreg\u001b[0m\u001b[0;34m.\u001b[0m\u001b[0mfit\u001b[0m\u001b[0;34m(\u001b[0m\u001b[0mX\u001b[0m\u001b[0;34m,\u001b[0m\u001b[0my\u001b[0m\u001b[0;34m)\u001b[0m\u001b[0;34m\u001b[0m\u001b[0;34m\u001b[0m\u001b[0m\n\u001b[0m",
            "\u001b[0;32m/usr/local/lib/python3.10/dist-packages/sklearn/linear_model/_base.py\u001b[0m in \u001b[0;36mfit\u001b[0;34m(self, X, y, sample_weight)\u001b[0m\n\u001b[1;32m    646\u001b[0m         \u001b[0maccept_sparse\u001b[0m \u001b[0;34m=\u001b[0m \u001b[0;32mFalse\u001b[0m \u001b[0;32mif\u001b[0m \u001b[0mself\u001b[0m\u001b[0;34m.\u001b[0m\u001b[0mpositive\u001b[0m \u001b[0;32melse\u001b[0m \u001b[0;34m[\u001b[0m\u001b[0;34m\"csr\"\u001b[0m\u001b[0;34m,\u001b[0m \u001b[0;34m\"csc\"\u001b[0m\u001b[0;34m,\u001b[0m \u001b[0;34m\"coo\"\u001b[0m\u001b[0;34m]\u001b[0m\u001b[0;34m\u001b[0m\u001b[0;34m\u001b[0m\u001b[0m\n\u001b[1;32m    647\u001b[0m \u001b[0;34m\u001b[0m\u001b[0m\n\u001b[0;32m--> 648\u001b[0;31m         X, y = self._validate_data(\n\u001b[0m\u001b[1;32m    649\u001b[0m             \u001b[0mX\u001b[0m\u001b[0;34m,\u001b[0m \u001b[0my\u001b[0m\u001b[0;34m,\u001b[0m \u001b[0maccept_sparse\u001b[0m\u001b[0;34m=\u001b[0m\u001b[0maccept_sparse\u001b[0m\u001b[0;34m,\u001b[0m \u001b[0my_numeric\u001b[0m\u001b[0;34m=\u001b[0m\u001b[0;32mTrue\u001b[0m\u001b[0;34m,\u001b[0m \u001b[0mmulti_output\u001b[0m\u001b[0;34m=\u001b[0m\u001b[0;32mTrue\u001b[0m\u001b[0;34m\u001b[0m\u001b[0;34m\u001b[0m\u001b[0m\n\u001b[1;32m    650\u001b[0m         )\n",
            "\u001b[0;32m/usr/local/lib/python3.10/dist-packages/sklearn/base.py\u001b[0m in \u001b[0;36m_validate_data\u001b[0;34m(self, X, y, reset, validate_separately, **check_params)\u001b[0m\n\u001b[1;32m    582\u001b[0m                 \u001b[0my\u001b[0m \u001b[0;34m=\u001b[0m \u001b[0mcheck_array\u001b[0m\u001b[0;34m(\u001b[0m\u001b[0my\u001b[0m\u001b[0;34m,\u001b[0m \u001b[0minput_name\u001b[0m\u001b[0;34m=\u001b[0m\u001b[0;34m\"y\"\u001b[0m\u001b[0;34m,\u001b[0m \u001b[0;34m**\u001b[0m\u001b[0mcheck_y_params\u001b[0m\u001b[0;34m)\u001b[0m\u001b[0;34m\u001b[0m\u001b[0;34m\u001b[0m\u001b[0m\n\u001b[1;32m    583\u001b[0m             \u001b[0;32melse\u001b[0m\u001b[0;34m:\u001b[0m\u001b[0;34m\u001b[0m\u001b[0;34m\u001b[0m\u001b[0m\n\u001b[0;32m--> 584\u001b[0;31m                 \u001b[0mX\u001b[0m\u001b[0;34m,\u001b[0m \u001b[0my\u001b[0m \u001b[0;34m=\u001b[0m \u001b[0mcheck_X_y\u001b[0m\u001b[0;34m(\u001b[0m\u001b[0mX\u001b[0m\u001b[0;34m,\u001b[0m \u001b[0my\u001b[0m\u001b[0;34m,\u001b[0m \u001b[0;34m**\u001b[0m\u001b[0mcheck_params\u001b[0m\u001b[0;34m)\u001b[0m\u001b[0;34m\u001b[0m\u001b[0;34m\u001b[0m\u001b[0m\n\u001b[0m\u001b[1;32m    585\u001b[0m             \u001b[0mout\u001b[0m \u001b[0;34m=\u001b[0m \u001b[0mX\u001b[0m\u001b[0;34m,\u001b[0m \u001b[0my\u001b[0m\u001b[0;34m\u001b[0m\u001b[0;34m\u001b[0m\u001b[0m\n\u001b[1;32m    586\u001b[0m \u001b[0;34m\u001b[0m\u001b[0m\n",
            "\u001b[0;32m/usr/local/lib/python3.10/dist-packages/sklearn/utils/validation.py\u001b[0m in \u001b[0;36mcheck_X_y\u001b[0;34m(X, y, accept_sparse, accept_large_sparse, dtype, order, copy, force_all_finite, ensure_2d, allow_nd, multi_output, ensure_min_samples, ensure_min_features, y_numeric, estimator)\u001b[0m\n\u001b[1;32m   1104\u001b[0m         )\n\u001b[1;32m   1105\u001b[0m \u001b[0;34m\u001b[0m\u001b[0m\n\u001b[0;32m-> 1106\u001b[0;31m     X = check_array(\n\u001b[0m\u001b[1;32m   1107\u001b[0m         \u001b[0mX\u001b[0m\u001b[0;34m,\u001b[0m\u001b[0;34m\u001b[0m\u001b[0;34m\u001b[0m\u001b[0m\n\u001b[1;32m   1108\u001b[0m         \u001b[0maccept_sparse\u001b[0m\u001b[0;34m=\u001b[0m\u001b[0maccept_sparse\u001b[0m\u001b[0;34m,\u001b[0m\u001b[0;34m\u001b[0m\u001b[0;34m\u001b[0m\u001b[0m\n",
            "\u001b[0;32m/usr/local/lib/python3.10/dist-packages/sklearn/utils/validation.py\u001b[0m in \u001b[0;36mcheck_array\u001b[0;34m(array, accept_sparse, accept_large_sparse, dtype, order, copy, force_all_finite, ensure_2d, allow_nd, ensure_min_samples, ensure_min_features, estimator, input_name)\u001b[0m\n\u001b[1;32m    900\u001b[0m             \u001b[0;31m# If input is 1D raise error\u001b[0m\u001b[0;34m\u001b[0m\u001b[0;34m\u001b[0m\u001b[0m\n\u001b[1;32m    901\u001b[0m             \u001b[0;32mif\u001b[0m \u001b[0marray\u001b[0m\u001b[0;34m.\u001b[0m\u001b[0mndim\u001b[0m \u001b[0;34m==\u001b[0m \u001b[0;36m1\u001b[0m\u001b[0;34m:\u001b[0m\u001b[0;34m\u001b[0m\u001b[0;34m\u001b[0m\u001b[0m\n\u001b[0;32m--> 902\u001b[0;31m                 raise ValueError(\n\u001b[0m\u001b[1;32m    903\u001b[0m                     \u001b[0;34m\"Expected 2D array, got 1D array instead:\\narray={}.\\n\"\u001b[0m\u001b[0;34m\u001b[0m\u001b[0;34m\u001b[0m\u001b[0m\n\u001b[1;32m    904\u001b[0m                     \u001b[0;34m\"Reshape your data either using array.reshape(-1, 1) if \"\u001b[0m\u001b[0;34m\u001b[0m\u001b[0;34m\u001b[0m\u001b[0m\n",
            "\u001b[0;31mValueError\u001b[0m: Expected 2D array, got 1D array instead:\narray=[1 2 4 5 6 8 9].\nReshape your data either using array.reshape(-1, 1) if your data has a single feature or array.reshape(1, -1) if it contains a single sample."
          ]
        }
      ],
      "source": [
        "# Create linear regression object\n",
        "reg = linear_model.LinearRegression()\n",
        "reg.fit(X,y)"
      ]
    },
    {
      "cell_type": "code",
      "execution_count": null,
      "id": "d3bea568",
      "metadata": {
        "id": "d3bea568",
        "colab": {
          "base_uri": "https://localhost:8080/"
        },
        "outputId": "5b8f14c2-ced7-4cd0-826d-8ca603316136"
      },
      "outputs": [
        {
          "output_type": "stream",
          "name": "stdout",
          "text": [
            "[[1]\n",
            " [2]\n",
            " [4]\n",
            " [5]\n",
            " [6]\n",
            " [8]\n",
            " [9]]\n"
          ]
        }
      ],
      "source": [
        "# 데이터 reshape\n",
        "X_data = X.reshape(-1,1)\n",
        "y_data = y.reshape(-1,1)\n",
        "print(X_data)"
      ]
    },
    {
      "cell_type": "code",
      "execution_count": null,
      "id": "cfea9c85",
      "metadata": {
        "id": "cfea9c85",
        "colab": {
          "base_uri": "https://localhost:8080/",
          "height": 74
        },
        "outputId": "7435dbd1-c98b-4e72-841c-74f9dcd664ca"
      },
      "outputs": [
        {
          "output_type": "execute_result",
          "data": {
            "text/plain": [
              "LinearRegression()"
            ],
            "text/html": [
              "<style>#sk-container-id-1 {color: black;background-color: white;}#sk-container-id-1 pre{padding: 0;}#sk-container-id-1 div.sk-toggleable {background-color: white;}#sk-container-id-1 label.sk-toggleable__label {cursor: pointer;display: block;width: 100%;margin-bottom: 0;padding: 0.3em;box-sizing: border-box;text-align: center;}#sk-container-id-1 label.sk-toggleable__label-arrow:before {content: \"▸\";float: left;margin-right: 0.25em;color: #696969;}#sk-container-id-1 label.sk-toggleable__label-arrow:hover:before {color: black;}#sk-container-id-1 div.sk-estimator:hover label.sk-toggleable__label-arrow:before {color: black;}#sk-container-id-1 div.sk-toggleable__content {max-height: 0;max-width: 0;overflow: hidden;text-align: left;background-color: #f0f8ff;}#sk-container-id-1 div.sk-toggleable__content pre {margin: 0.2em;color: black;border-radius: 0.25em;background-color: #f0f8ff;}#sk-container-id-1 input.sk-toggleable__control:checked~div.sk-toggleable__content {max-height: 200px;max-width: 100%;overflow: auto;}#sk-container-id-1 input.sk-toggleable__control:checked~label.sk-toggleable__label-arrow:before {content: \"▾\";}#sk-container-id-1 div.sk-estimator input.sk-toggleable__control:checked~label.sk-toggleable__label {background-color: #d4ebff;}#sk-container-id-1 div.sk-label input.sk-toggleable__control:checked~label.sk-toggleable__label {background-color: #d4ebff;}#sk-container-id-1 input.sk-hidden--visually {border: 0;clip: rect(1px 1px 1px 1px);clip: rect(1px, 1px, 1px, 1px);height: 1px;margin: -1px;overflow: hidden;padding: 0;position: absolute;width: 1px;}#sk-container-id-1 div.sk-estimator {font-family: monospace;background-color: #f0f8ff;border: 1px dotted black;border-radius: 0.25em;box-sizing: border-box;margin-bottom: 0.5em;}#sk-container-id-1 div.sk-estimator:hover {background-color: #d4ebff;}#sk-container-id-1 div.sk-parallel-item::after {content: \"\";width: 100%;border-bottom: 1px solid gray;flex-grow: 1;}#sk-container-id-1 div.sk-label:hover label.sk-toggleable__label {background-color: #d4ebff;}#sk-container-id-1 div.sk-serial::before {content: \"\";position: absolute;border-left: 1px solid gray;box-sizing: border-box;top: 0;bottom: 0;left: 50%;z-index: 0;}#sk-container-id-1 div.sk-serial {display: flex;flex-direction: column;align-items: center;background-color: white;padding-right: 0.2em;padding-left: 0.2em;position: relative;}#sk-container-id-1 div.sk-item {position: relative;z-index: 1;}#sk-container-id-1 div.sk-parallel {display: flex;align-items: stretch;justify-content: center;background-color: white;position: relative;}#sk-container-id-1 div.sk-item::before, #sk-container-id-1 div.sk-parallel-item::before {content: \"\";position: absolute;border-left: 1px solid gray;box-sizing: border-box;top: 0;bottom: 0;left: 50%;z-index: -1;}#sk-container-id-1 div.sk-parallel-item {display: flex;flex-direction: column;z-index: 1;position: relative;background-color: white;}#sk-container-id-1 div.sk-parallel-item:first-child::after {align-self: flex-end;width: 50%;}#sk-container-id-1 div.sk-parallel-item:last-child::after {align-self: flex-start;width: 50%;}#sk-container-id-1 div.sk-parallel-item:only-child::after {width: 0;}#sk-container-id-1 div.sk-dashed-wrapped {border: 1px dashed gray;margin: 0 0.4em 0.5em 0.4em;box-sizing: border-box;padding-bottom: 0.4em;background-color: white;}#sk-container-id-1 div.sk-label label {font-family: monospace;font-weight: bold;display: inline-block;line-height: 1.2em;}#sk-container-id-1 div.sk-label-container {text-align: center;}#sk-container-id-1 div.sk-container {/* jupyter's `normalize.less` sets `[hidden] { display: none; }` but bootstrap.min.css set `[hidden] { display: none !important; }` so we also need the `!important` here to be able to override the default hidden behavior on the sphinx rendered scikit-learn.org. See: https://github.com/scikit-learn/scikit-learn/issues/21755 */display: inline-block !important;position: relative;}#sk-container-id-1 div.sk-text-repr-fallback {display: none;}</style><div id=\"sk-container-id-1\" class=\"sk-top-container\"><div class=\"sk-text-repr-fallback\"><pre>LinearRegression()</pre><b>In a Jupyter environment, please rerun this cell to show the HTML representation or trust the notebook. <br />On GitHub, the HTML representation is unable to render, please try loading this page with nbviewer.org.</b></div><div class=\"sk-container\" hidden><div class=\"sk-item\"><div class=\"sk-estimator sk-toggleable\"><input class=\"sk-toggleable__control sk-hidden--visually\" id=\"sk-estimator-id-1\" type=\"checkbox\" checked><label for=\"sk-estimator-id-1\" class=\"sk-toggleable__label sk-toggleable__label-arrow\">LinearRegression</label><div class=\"sk-toggleable__content\"><pre>LinearRegression()</pre></div></div></div></div></div>"
            ]
          },
          "metadata": {},
          "execution_count": 38
        }
      ],
      "source": [
        "# Create linear regression object\n",
        "# Create linear regression object\n",
        "reg = linear_model.LinearRegression()\n",
        "reg.fit(X_data,y_data)"
      ]
    },
    {
      "cell_type": "code",
      "execution_count": null,
      "id": "2fdd9ec3",
      "metadata": {
        "id": "2fdd9ec3",
        "colab": {
          "base_uri": "https://localhost:8080/"
        },
        "outputId": "844fe554-3b6a-4ba5-bf39-d7abdd982c48"
      },
      "outputs": [
        {
          "output_type": "execute_result",
          "data": {
            "text/plain": [
              "array([[82.78021978]])"
            ]
          },
          "metadata": {},
          "execution_count": 39
        }
      ],
      "source": [
        "# 3시간 공부했을 때 점수는?\n",
        "reg.predict([[3]])"
      ]
    },
    {
      "cell_type": "code",
      "execution_count": null,
      "id": "837ddf77",
      "metadata": {
        "id": "837ddf77",
        "colab": {
          "base_uri": "https://localhost:8080/"
        },
        "outputId": "271e06a9-add8-4d61-f9ca-951238bbdaec"
      },
      "outputs": [
        {
          "output_type": "execute_result",
          "data": {
            "text/plain": [
              "array([[3.03846154]])"
            ]
          },
          "metadata": {},
          "execution_count": 40
        }
      ],
      "source": [
        "#회귀계수\n",
        "reg.coef_"
      ]
    },
    {
      "cell_type": "code",
      "execution_count": null,
      "id": "2a941205",
      "metadata": {
        "id": "2a941205",
        "colab": {
          "base_uri": "https://localhost:8080/"
        },
        "outputId": "326f9981-f122-4924-fd3c-d05567952226"
      },
      "outputs": [
        {
          "output_type": "execute_result",
          "data": {
            "text/plain": [
              "array([73.66483516])"
            ]
          },
          "metadata": {},
          "execution_count": 41
        }
      ],
      "source": [
        "# 절편\n",
        "reg.intercept_"
      ]
    },
    {
      "cell_type": "code",
      "execution_count": 44,
      "id": "b0eeef05",
      "metadata": {
        "id": "b0eeef05"
      },
      "outputs": [],
      "source": [
        "# 예측 식\n",
        "y_pred = reg.coef_*X + reg.intercept_\n",
        "y_pred = y_pred.reshape(7,1)"
      ]
    },
    {
      "cell_type": "code",
      "execution_count": 45,
      "id": "1c9196b1",
      "metadata": {
        "id": "1c9196b1",
        "colab": {
          "base_uri": "https://localhost:8080/",
          "height": 469
        },
        "outputId": "7fccaeef-d86f-4d3d-fb0e-b9e385e7731b"
      },
      "outputs": [
        {
          "output_type": "display_data",
          "data": {
            "text/plain": [
              "<Figure size 640x480 with 1 Axes>"
            ],
            "image/png": "[encoded data removed]"
          },
          "metadata": {}
        }
      ],
      "source": [
        "# 시각화\n",
        "plt.scatter(X_data, y_data, color='blue', label='실제 데이터')\n",
        "plt.plot(X_data, y_pred, color='red', label='회귀선')\n",
        "plt.xlabel('X')\n",
        "plt.ylabel('y')\n",
        "plt.legend()\n",
        "plt.title('단순선형회귀 예측 결과')\n",
        "plt.show()"
      ]
    },
    {
      "cell_type": "code",
      "source": [],
      "metadata": {
        "id": "6WCLaibVqjSJ"
      },
      "id": "6WCLaibVqjSJ",
      "execution_count": null,
      "outputs": []
    }
  ],
  "metadata": {
    "kernelspec": {
      "display_name": "Python 3 (ipykernel)",
      "language": "python",
      "name": "python3"
    },
    "language_info": {
      "codemirror_mode": {
        "name": "ipython",
        "version": 3
      },
      "file_extension": ".py",
      "mimetype": "text/x-python",
      "name": "python",
      "nbconvert_exporter": "python",
      "pygments_lexer": "ipython3",
      "version": "3.11.4"
    },
    "colab": {
      "provenance": [],
      "include_colab_link": true
    }
  },
  "nbformat": 4,
  "nbformat_minor": 5
}